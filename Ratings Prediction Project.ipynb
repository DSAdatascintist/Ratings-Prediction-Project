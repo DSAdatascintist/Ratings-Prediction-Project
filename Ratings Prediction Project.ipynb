{
 "cells": [
  {
   "cell_type": "code",
   "execution_count": 1,
   "id": "1f6043b2",
   "metadata": {},
   "outputs": [],
   "source": [
    "#import all libraries\n",
    "import pandas as pd\n",
    "import numpy as np\n",
    "import matplotlib.pyplot as plt\n",
    "import seaborn as sns\n",
    "import warnings\n",
    "warnings.filterwarnings('ignore')\n",
    "from sklearn.metrics import r2_score,mean_absolute_error,mean_squared_error\n",
    "from sklearn.linear_model import LogisticRegression,Lasso,LinearRegression\n",
    "from sklearn.neighbors import KNeighborsRegressor\n",
    "from sklearn.svm import SVR\n",
    "from sklearn.tree import DecisionTreeRegressor\n",
    "from sklearn.ensemble import AdaBoostRegressor,GradientBoostingRegressor\n",
    "from sklearn.preprocessing import LabelEncoder,StandardScaler\n",
    "from sklearn.model_selection import train_test_split,GridSearchCV\n",
    "from sklearn.decomposition import PCA\n",
    "from scipy.stats import zscore\n",
    "from sklearn.model_selection import cross_val_score"
   ]
  },
  {
   "cell_type": "code",
   "execution_count": 2,
   "id": "9bc35dea",
   "metadata": {},
   "outputs": [
    {
     "data": {
      "text/html": [
       "<div>\n",
       "<style scoped>\n",
       "    .dataframe tbody tr th:only-of-type {\n",
       "        vertical-align: middle;\n",
       "    }\n",
       "\n",
       "    .dataframe tbody tr th {\n",
       "        vertical-align: top;\n",
       "    }\n",
       "\n",
       "    .dataframe thead th {\n",
       "        text-align: right;\n",
       "    }\n",
       "</style>\n",
       "<table border=\"1\" class=\"dataframe\">\n",
       "  <thead>\n",
       "    <tr style=\"text-align: right;\">\n",
       "      <th></th>\n",
       "      <th>Reviewer name</th>\n",
       "      <th>reviews of the product</th>\n",
       "      <th>Review body</th>\n",
       "      <th>rating of the product</th>\n",
       "      <th>sentiment</th>\n",
       "    </tr>\n",
       "  </thead>\n",
       "  <tbody>\n",
       "    <tr>\n",
       "      <th>0</th>\n",
       "      <td>Genuine buyer</td>\n",
       "      <td>Pros and cons</td>\n",
       "      <td>Great quality and the sound is actually great....</td>\n",
       "      <td>5.0 out of 5 stars</td>\n",
       "      <td>positive</td>\n",
       "    </tr>\n",
       "    <tr>\n",
       "      <th>1</th>\n",
       "      <td>CHETAN SHETTER</td>\n",
       "      <td>Never Expected in this price range I Assure Yo...</td>\n",
       "      <td>I've been using this from past 6 months. This ...</td>\n",
       "      <td>5.0 out of 5 stars</td>\n",
       "      <td>positive</td>\n",
       "    </tr>\n",
       "    <tr>\n",
       "      <th>2</th>\n",
       "      <td>Kiran Kumar M</td>\n",
       "      <td>Bass bastler, Awesome HD quality sound, rocking</td>\n",
       "      <td>Perfect bass and nice one. Superb sound and it...</td>\n",
       "      <td>5.0 out of 5 stars</td>\n",
       "      <td>positive</td>\n",
       "    </tr>\n",
       "    <tr>\n",
       "      <th>3</th>\n",
       "      <td>Raj Patel</td>\n",
       "      <td>Maybe buy boat basshead</td>\n",
       "      <td>Here is the review after 1 week of usePros:1.B...</td>\n",
       "      <td>4.0 out of 5 stars</td>\n",
       "      <td>positive</td>\n",
       "    </tr>\n",
       "    <tr>\n",
       "      <th>4</th>\n",
       "      <td>SANJAY KUMAR TIWARI</td>\n",
       "      <td>Superb head stereo better than leading brands.</td>\n",
       "      <td>Purchased after seeing review with suspicion t...</td>\n",
       "      <td>5.0 out of 5 stars</td>\n",
       "      <td>positive</td>\n",
       "    </tr>\n",
       "  </tbody>\n",
       "</table>\n",
       "</div>"
      ],
      "text/plain": [
       "         Reviewer name                             reviews of the product  \\\n",
       "0        Genuine buyer                                      Pros and cons   \n",
       "1       CHETAN SHETTER  Never Expected in this price range I Assure Yo...   \n",
       "2        Kiran Kumar M    Bass bastler, Awesome HD quality sound, rocking   \n",
       "3            Raj Patel                           Maybe buy boat basshead    \n",
       "4  SANJAY KUMAR TIWARI     Superb head stereo better than leading brands.   \n",
       "\n",
       "                                         Review body rating of the product  \\\n",
       "0  Great quality and the sound is actually great....    5.0 out of 5 stars   \n",
       "1  I've been using this from past 6 months. This ...    5.0 out of 5 stars   \n",
       "2  Perfect bass and nice one. Superb sound and it...    5.0 out of 5 stars   \n",
       "3  Here is the review after 1 week of usePros:1.B...    4.0 out of 5 stars   \n",
       "4  Purchased after seeing review with suspicion t...    5.0 out of 5 stars   \n",
       "\n",
       "  sentiment  \n",
       "0  positive  \n",
       "1  positive  \n",
       "2  positive  \n",
       "3  positive  \n",
       "4  positive  "
      ]
     },
     "execution_count": 2,
     "metadata": {},
     "output_type": "execute_result"
    }
   ],
   "source": [
    "data=pd.read_excel(\"C:\\\\Users\\\\SAI BABA\\\\Desktop\\\\amazonReview1.xlsx\")\n",
    "data.head()"
   ]
  },
  {
   "cell_type": "code",
   "execution_count": 3,
   "id": "a62c084c",
   "metadata": {},
   "outputs": [
    {
     "data": {
      "text/plain": [
       "(449779, 5)"
      ]
     },
     "execution_count": 3,
     "metadata": {},
     "output_type": "execute_result"
    }
   ],
   "source": [
    "data.shape"
   ]
  },
  {
   "cell_type": "code",
   "execution_count": 4,
   "id": "b38de299",
   "metadata": {},
   "outputs": [
    {
     "name": "stdout",
     "output_type": "stream",
     "text": [
      "<class 'pandas.core.frame.DataFrame'>\n",
      "RangeIndex: 449779 entries, 0 to 449778\n",
      "Data columns (total 5 columns):\n",
      " #   Column                  Non-Null Count   Dtype \n",
      "---  ------                  --------------   ----- \n",
      " 0   Reviewer name           449766 non-null  object\n",
      " 1   reviews of the product  449718 non-null  object\n",
      " 2   Review body             449622 non-null  object\n",
      " 3   rating of the product   413373 non-null  object\n",
      " 4   sentiment               449779 non-null  object\n",
      "dtypes: object(5)\n",
      "memory usage: 17.2+ MB\n"
     ]
    }
   ],
   "source": [
    "data.info()"
   ]
  },
  {
   "cell_type": "code",
   "execution_count": 5,
   "id": "24e37d4a",
   "metadata": {
    "scrolled": true
   },
   "outputs": [
    {
     "data": {
      "text/plain": [
       "Reviewer name                13\n",
       "reviews of the product       61\n",
       "Review body                 157\n",
       "rating of the product     36406\n",
       "sentiment                     0\n",
       "dtype: int64"
      ]
     },
     "execution_count": 5,
     "metadata": {},
     "output_type": "execute_result"
    }
   ],
   "source": [
    "data.isnull().sum()"
   ]
  },
  {
   "cell_type": "markdown",
   "id": "d4740313",
   "metadata": {},
   "source": [
    "# Removing Null values"
   ]
  },
  {
   "cell_type": "code",
   "execution_count": 6,
   "id": "164cd16a",
   "metadata": {},
   "outputs": [],
   "source": [
    "data['Reviewer name']=data['Reviewer name'].fillna(data['Reviewer name'].mode()[0])\n",
    "data['reviews of the product']=data['reviews of the product'].fillna(data['reviews of the product'].mode()[0])\n",
    "data['Review body']=data['Review body'].fillna(data['Review body'].mode()[0])\n",
    "data['rating of the product']=data['rating of the product'].fillna(data['rating of the product'].mode()[0])\n"
   ]
  },
  {
   "cell_type": "code",
   "execution_count": 7,
   "id": "2a4eacb8",
   "metadata": {},
   "outputs": [
    {
     "data": {
      "text/plain": [
       "Reviewer name             0\n",
       "reviews of the product    0\n",
       "Review body               0\n",
       "rating of the product     0\n",
       "sentiment                 0\n",
       "dtype: int64"
      ]
     },
     "execution_count": 7,
     "metadata": {},
     "output_type": "execute_result"
    }
   ],
   "source": [
    "data.isnull().sum()"
   ]
  },
  {
   "cell_type": "code",
   "execution_count": 8,
   "id": "e6686d0a",
   "metadata": {},
   "outputs": [
    {
     "name": "stdout",
     "output_type": "stream",
     "text": [
      "<class 'pandas.core.frame.DataFrame'>\n",
      "RangeIndex: 449779 entries, 0 to 449778\n",
      "Data columns (total 5 columns):\n",
      " #   Column                  Non-Null Count   Dtype \n",
      "---  ------                  --------------   ----- \n",
      " 0   Reviewer name           449779 non-null  object\n",
      " 1   reviews of the product  449779 non-null  object\n",
      " 2   Review body             449779 non-null  object\n",
      " 3   rating of the product   449779 non-null  object\n",
      " 4   sentiment               449779 non-null  object\n",
      "dtypes: object(5)\n",
      "memory usage: 17.2+ MB\n"
     ]
    }
   ],
   "source": [
    "data.info()"
   ]
  },
  {
   "cell_type": "markdown",
   "id": "953b2fbb",
   "metadata": {},
   "source": [
    "# DATA ENCODING"
   ]
  },
  {
   "cell_type": "code",
   "execution_count": 9,
   "id": "e39b2685",
   "metadata": {},
   "outputs": [],
   "source": [
    "from sklearn.preprocessing import LabelEncoder"
   ]
  },
  {
   "cell_type": "code",
   "execution_count": 10,
   "id": "a8de876e",
   "metadata": {},
   "outputs": [],
   "source": [
    "le=LabelEncoder()\n",
    "label=le.fit_transform(data[\"rating of the product\"])\n",
    "label\n",
    "data=data.drop(\"rating of the product\",axis='columns')\n",
    "data[\"rating of the product\"]=label"
   ]
  },
  {
   "cell_type": "code",
   "execution_count": 11,
   "id": "d585b55f",
   "metadata": {
    "scrolled": true
   },
   "outputs": [
    {
     "data": {
      "text/html": [
       "<div>\n",
       "<style scoped>\n",
       "    .dataframe tbody tr th:only-of-type {\n",
       "        vertical-align: middle;\n",
       "    }\n",
       "\n",
       "    .dataframe tbody tr th {\n",
       "        vertical-align: top;\n",
       "    }\n",
       "\n",
       "    .dataframe thead th {\n",
       "        text-align: right;\n",
       "    }\n",
       "</style>\n",
       "<table border=\"1\" class=\"dataframe\">\n",
       "  <thead>\n",
       "    <tr style=\"text-align: right;\">\n",
       "      <th></th>\n",
       "      <th>Reviewer name</th>\n",
       "      <th>reviews of the product</th>\n",
       "      <th>Review body</th>\n",
       "      <th>sentiment</th>\n",
       "      <th>rating of the product</th>\n",
       "    </tr>\n",
       "  </thead>\n",
       "  <tbody>\n",
       "    <tr>\n",
       "      <th>0</th>\n",
       "      <td>Genuine buyer</td>\n",
       "      <td>Pros and cons</td>\n",
       "      <td>Great quality and the sound is actually great....</td>\n",
       "      <td>positive</td>\n",
       "      <td>4</td>\n",
       "    </tr>\n",
       "    <tr>\n",
       "      <th>1</th>\n",
       "      <td>CHETAN SHETTER</td>\n",
       "      <td>Never Expected in this price range I Assure Yo...</td>\n",
       "      <td>I've been using this from past 6 months. This ...</td>\n",
       "      <td>positive</td>\n",
       "      <td>4</td>\n",
       "    </tr>\n",
       "    <tr>\n",
       "      <th>2</th>\n",
       "      <td>Kiran Kumar M</td>\n",
       "      <td>Bass bastler, Awesome HD quality sound, rocking</td>\n",
       "      <td>Perfect bass and nice one. Superb sound and it...</td>\n",
       "      <td>positive</td>\n",
       "      <td>4</td>\n",
       "    </tr>\n",
       "    <tr>\n",
       "      <th>3</th>\n",
       "      <td>Raj Patel</td>\n",
       "      <td>Maybe buy boat basshead</td>\n",
       "      <td>Here is the review after 1 week of usePros:1.B...</td>\n",
       "      <td>positive</td>\n",
       "      <td>3</td>\n",
       "    </tr>\n",
       "    <tr>\n",
       "      <th>4</th>\n",
       "      <td>SANJAY KUMAR TIWARI</td>\n",
       "      <td>Superb head stereo better than leading brands.</td>\n",
       "      <td>Purchased after seeing review with suspicion t...</td>\n",
       "      <td>positive</td>\n",
       "      <td>4</td>\n",
       "    </tr>\n",
       "    <tr>\n",
       "      <th>...</th>\n",
       "      <td>...</td>\n",
       "      <td>...</td>\n",
       "      <td>...</td>\n",
       "      <td>...</td>\n",
       "      <td>...</td>\n",
       "    </tr>\n",
       "    <tr>\n",
       "      <th>449774</th>\n",
       "      <td>Dipchand</td>\n",
       "      <td>Not good</td>\n",
       "      <td>One side head phone is not working within 10 d...</td>\n",
       "      <td>negative</td>\n",
       "      <td>0</td>\n",
       "    </tr>\n",
       "    <tr>\n",
       "      <th>449775</th>\n",
       "      <td>Amazon Customer</td>\n",
       "      <td>Need replacement</td>\n",
       "      <td>Quality is good. And there is some damage near...</td>\n",
       "      <td>negative</td>\n",
       "      <td>0</td>\n",
       "    </tr>\n",
       "    <tr>\n",
       "      <th>449776</th>\n",
       "      <td>MAYANK MISHRA</td>\n",
       "      <td>Stopped working after 1 month.</td>\n",
       "      <td>Your browser does not support HTML5 video. Â A...</td>\n",
       "      <td>negative</td>\n",
       "      <td>2</td>\n",
       "    </tr>\n",
       "    <tr>\n",
       "      <th>449777</th>\n",
       "      <td>Zan</td>\n",
       "      <td>Cheap Quality.</td>\n",
       "      <td>This product is of very cheap quality. Wouldn'...</td>\n",
       "      <td>negative</td>\n",
       "      <td>0</td>\n",
       "    </tr>\n",
       "    <tr>\n",
       "      <th>449778</th>\n",
       "      <td>SK Raju</td>\n",
       "      <td>First few days only it works</td>\n",
       "      <td>Bad luck to buy, within month went bad does no...</td>\n",
       "      <td>negative</td>\n",
       "      <td>1</td>\n",
       "    </tr>\n",
       "  </tbody>\n",
       "</table>\n",
       "<p>449779 rows × 5 columns</p>\n",
       "</div>"
      ],
      "text/plain": [
       "              Reviewer name  \\\n",
       "0             Genuine buyer   \n",
       "1            CHETAN SHETTER   \n",
       "2             Kiran Kumar M   \n",
       "3                 Raj Patel   \n",
       "4       SANJAY KUMAR TIWARI   \n",
       "...                     ...   \n",
       "449774             Dipchand   \n",
       "449775      Amazon Customer   \n",
       "449776        MAYANK MISHRA   \n",
       "449777                  Zan   \n",
       "449778              SK Raju   \n",
       "\n",
       "                                   reviews of the product  \\\n",
       "0                                           Pros and cons   \n",
       "1       Never Expected in this price range I Assure Yo...   \n",
       "2         Bass bastler, Awesome HD quality sound, rocking   \n",
       "3                                Maybe buy boat basshead    \n",
       "4          Superb head stereo better than leading brands.   \n",
       "...                                                   ...   \n",
       "449774                                           Not good   \n",
       "449775                                   Need replacement   \n",
       "449776                     Stopped working after 1 month.   \n",
       "449777                                     Cheap Quality.   \n",
       "449778                       First few days only it works   \n",
       "\n",
       "                                              Review body sentiment  \\\n",
       "0       Great quality and the sound is actually great....  positive   \n",
       "1       I've been using this from past 6 months. This ...  positive   \n",
       "2       Perfect bass and nice one. Superb sound and it...  positive   \n",
       "3       Here is the review after 1 week of usePros:1.B...  positive   \n",
       "4       Purchased after seeing review with suspicion t...  positive   \n",
       "...                                                   ...       ...   \n",
       "449774  One side head phone is not working within 10 d...  negative   \n",
       "449775  Quality is good. And there is some damage near...  negative   \n",
       "449776  Your browser does not support HTML5 video. Â A...  negative   \n",
       "449777  This product is of very cheap quality. Wouldn'...  negative   \n",
       "449778  Bad luck to buy, within month went bad does no...  negative   \n",
       "\n",
       "        rating of the product  \n",
       "0                           4  \n",
       "1                           4  \n",
       "2                           4  \n",
       "3                           3  \n",
       "4                           4  \n",
       "...                       ...  \n",
       "449774                      0  \n",
       "449775                      0  \n",
       "449776                      2  \n",
       "449777                      0  \n",
       "449778                      1  \n",
       "\n",
       "[449779 rows x 5 columns]"
      ]
     },
     "execution_count": 11,
     "metadata": {},
     "output_type": "execute_result"
    }
   ],
   "source": [
    "data"
   ]
  },
  {
   "cell_type": "code",
   "execution_count": 12,
   "id": "4c8ff461",
   "metadata": {},
   "outputs": [],
   "source": [
    "data.drop(['Reviewer name'],axis=1,inplace=True)"
   ]
  },
  {
   "cell_type": "code",
   "execution_count": 13,
   "id": "373df84c",
   "metadata": {
    "scrolled": true
   },
   "outputs": [
    {
     "data": {
      "text/html": [
       "<div>\n",
       "<style scoped>\n",
       "    .dataframe tbody tr th:only-of-type {\n",
       "        vertical-align: middle;\n",
       "    }\n",
       "\n",
       "    .dataframe tbody tr th {\n",
       "        vertical-align: top;\n",
       "    }\n",
       "\n",
       "    .dataframe thead th {\n",
       "        text-align: right;\n",
       "    }\n",
       "</style>\n",
       "<table border=\"1\" class=\"dataframe\">\n",
       "  <thead>\n",
       "    <tr style=\"text-align: right;\">\n",
       "      <th></th>\n",
       "      <th>reviews of the product</th>\n",
       "      <th>Review body</th>\n",
       "      <th>sentiment</th>\n",
       "      <th>rating of the product</th>\n",
       "    </tr>\n",
       "  </thead>\n",
       "  <tbody>\n",
       "    <tr>\n",
       "      <th>0</th>\n",
       "      <td>Pros and cons</td>\n",
       "      <td>Great quality and the sound is actually great....</td>\n",
       "      <td>positive</td>\n",
       "      <td>4</td>\n",
       "    </tr>\n",
       "    <tr>\n",
       "      <th>1</th>\n",
       "      <td>Never Expected in this price range I Assure Yo...</td>\n",
       "      <td>I've been using this from past 6 months. This ...</td>\n",
       "      <td>positive</td>\n",
       "      <td>4</td>\n",
       "    </tr>\n",
       "    <tr>\n",
       "      <th>2</th>\n",
       "      <td>Bass bastler, Awesome HD quality sound, rocking</td>\n",
       "      <td>Perfect bass and nice one. Superb sound and it...</td>\n",
       "      <td>positive</td>\n",
       "      <td>4</td>\n",
       "    </tr>\n",
       "    <tr>\n",
       "      <th>3</th>\n",
       "      <td>Maybe buy boat basshead</td>\n",
       "      <td>Here is the review after 1 week of usePros:1.B...</td>\n",
       "      <td>positive</td>\n",
       "      <td>3</td>\n",
       "    </tr>\n",
       "    <tr>\n",
       "      <th>4</th>\n",
       "      <td>Superb head stereo better than leading brands.</td>\n",
       "      <td>Purchased after seeing review with suspicion t...</td>\n",
       "      <td>positive</td>\n",
       "      <td>4</td>\n",
       "    </tr>\n",
       "    <tr>\n",
       "      <th>...</th>\n",
       "      <td>...</td>\n",
       "      <td>...</td>\n",
       "      <td>...</td>\n",
       "      <td>...</td>\n",
       "    </tr>\n",
       "    <tr>\n",
       "      <th>449774</th>\n",
       "      <td>Not good</td>\n",
       "      <td>One side head phone is not working within 10 d...</td>\n",
       "      <td>negative</td>\n",
       "      <td>0</td>\n",
       "    </tr>\n",
       "    <tr>\n",
       "      <th>449775</th>\n",
       "      <td>Need replacement</td>\n",
       "      <td>Quality is good. And there is some damage near...</td>\n",
       "      <td>negative</td>\n",
       "      <td>0</td>\n",
       "    </tr>\n",
       "    <tr>\n",
       "      <th>449776</th>\n",
       "      <td>Stopped working after 1 month.</td>\n",
       "      <td>Your browser does not support HTML5 video. Â A...</td>\n",
       "      <td>negative</td>\n",
       "      <td>2</td>\n",
       "    </tr>\n",
       "    <tr>\n",
       "      <th>449777</th>\n",
       "      <td>Cheap Quality.</td>\n",
       "      <td>This product is of very cheap quality. Wouldn'...</td>\n",
       "      <td>negative</td>\n",
       "      <td>0</td>\n",
       "    </tr>\n",
       "    <tr>\n",
       "      <th>449778</th>\n",
       "      <td>First few days only it works</td>\n",
       "      <td>Bad luck to buy, within month went bad does no...</td>\n",
       "      <td>negative</td>\n",
       "      <td>1</td>\n",
       "    </tr>\n",
       "  </tbody>\n",
       "</table>\n",
       "<p>449779 rows × 4 columns</p>\n",
       "</div>"
      ],
      "text/plain": [
       "                                   reviews of the product  \\\n",
       "0                                           Pros and cons   \n",
       "1       Never Expected in this price range I Assure Yo...   \n",
       "2         Bass bastler, Awesome HD quality sound, rocking   \n",
       "3                                Maybe buy boat basshead    \n",
       "4          Superb head stereo better than leading brands.   \n",
       "...                                                   ...   \n",
       "449774                                           Not good   \n",
       "449775                                   Need replacement   \n",
       "449776                     Stopped working after 1 month.   \n",
       "449777                                     Cheap Quality.   \n",
       "449778                       First few days only it works   \n",
       "\n",
       "                                              Review body sentiment  \\\n",
       "0       Great quality and the sound is actually great....  positive   \n",
       "1       I've been using this from past 6 months. This ...  positive   \n",
       "2       Perfect bass and nice one. Superb sound and it...  positive   \n",
       "3       Here is the review after 1 week of usePros:1.B...  positive   \n",
       "4       Purchased after seeing review with suspicion t...  positive   \n",
       "...                                                   ...       ...   \n",
       "449774  One side head phone is not working within 10 d...  negative   \n",
       "449775  Quality is good. And there is some damage near...  negative   \n",
       "449776  Your browser does not support HTML5 video. Â A...  negative   \n",
       "449777  This product is of very cheap quality. Wouldn'...  negative   \n",
       "449778  Bad luck to buy, within month went bad does no...  negative   \n",
       "\n",
       "        rating of the product  \n",
       "0                           4  \n",
       "1                           4  \n",
       "2                           4  \n",
       "3                           3  \n",
       "4                           4  \n",
       "...                       ...  \n",
       "449774                      0  \n",
       "449775                      0  \n",
       "449776                      2  \n",
       "449777                      0  \n",
       "449778                      1  \n",
       "\n",
       "[449779 rows x 4 columns]"
      ]
     },
     "execution_count": 13,
     "metadata": {},
     "output_type": "execute_result"
    }
   ],
   "source": [
    "data"
   ]
  },
  {
   "cell_type": "code",
   "execution_count": 14,
   "id": "300402e9",
   "metadata": {},
   "outputs": [
    {
     "data": {
      "text/html": [
       "<div>\n",
       "<style scoped>\n",
       "    .dataframe tbody tr th:only-of-type {\n",
       "        vertical-align: middle;\n",
       "    }\n",
       "\n",
       "    .dataframe tbody tr th {\n",
       "        vertical-align: top;\n",
       "    }\n",
       "\n",
       "    .dataframe thead th {\n",
       "        text-align: right;\n",
       "    }\n",
       "</style>\n",
       "<table border=\"1\" class=\"dataframe\">\n",
       "  <thead>\n",
       "    <tr style=\"text-align: right;\">\n",
       "      <th></th>\n",
       "      <th>reviews of the product</th>\n",
       "      <th>Review body</th>\n",
       "      <th>rating of the product</th>\n",
       "      <th>sentiment</th>\n",
       "    </tr>\n",
       "  </thead>\n",
       "  <tbody>\n",
       "    <tr>\n",
       "      <th>0</th>\n",
       "      <td>Pros and cons</td>\n",
       "      <td>Great quality and the sound is actually great....</td>\n",
       "      <td>4</td>\n",
       "      <td>1</td>\n",
       "    </tr>\n",
       "    <tr>\n",
       "      <th>1</th>\n",
       "      <td>Never Expected in this price range I Assure Yo...</td>\n",
       "      <td>I've been using this from past 6 months. This ...</td>\n",
       "      <td>4</td>\n",
       "      <td>1</td>\n",
       "    </tr>\n",
       "    <tr>\n",
       "      <th>2</th>\n",
       "      <td>Bass bastler, Awesome HD quality sound, rocking</td>\n",
       "      <td>Perfect bass and nice one. Superb sound and it...</td>\n",
       "      <td>4</td>\n",
       "      <td>1</td>\n",
       "    </tr>\n",
       "    <tr>\n",
       "      <th>3</th>\n",
       "      <td>Maybe buy boat basshead</td>\n",
       "      <td>Here is the review after 1 week of usePros:1.B...</td>\n",
       "      <td>3</td>\n",
       "      <td>1</td>\n",
       "    </tr>\n",
       "    <tr>\n",
       "      <th>4</th>\n",
       "      <td>Superb head stereo better than leading brands.</td>\n",
       "      <td>Purchased after seeing review with suspicion t...</td>\n",
       "      <td>4</td>\n",
       "      <td>1</td>\n",
       "    </tr>\n",
       "    <tr>\n",
       "      <th>...</th>\n",
       "      <td>...</td>\n",
       "      <td>...</td>\n",
       "      <td>...</td>\n",
       "      <td>...</td>\n",
       "    </tr>\n",
       "    <tr>\n",
       "      <th>449774</th>\n",
       "      <td>Not good</td>\n",
       "      <td>One side head phone is not working within 10 d...</td>\n",
       "      <td>0</td>\n",
       "      <td>0</td>\n",
       "    </tr>\n",
       "    <tr>\n",
       "      <th>449775</th>\n",
       "      <td>Need replacement</td>\n",
       "      <td>Quality is good. And there is some damage near...</td>\n",
       "      <td>0</td>\n",
       "      <td>0</td>\n",
       "    </tr>\n",
       "    <tr>\n",
       "      <th>449776</th>\n",
       "      <td>Stopped working after 1 month.</td>\n",
       "      <td>Your browser does not support HTML5 video. Â A...</td>\n",
       "      <td>2</td>\n",
       "      <td>0</td>\n",
       "    </tr>\n",
       "    <tr>\n",
       "      <th>449777</th>\n",
       "      <td>Cheap Quality.</td>\n",
       "      <td>This product is of very cheap quality. Wouldn'...</td>\n",
       "      <td>0</td>\n",
       "      <td>0</td>\n",
       "    </tr>\n",
       "    <tr>\n",
       "      <th>449778</th>\n",
       "      <td>First few days only it works</td>\n",
       "      <td>Bad luck to buy, within month went bad does no...</td>\n",
       "      <td>1</td>\n",
       "      <td>0</td>\n",
       "    </tr>\n",
       "  </tbody>\n",
       "</table>\n",
       "<p>449779 rows × 4 columns</p>\n",
       "</div>"
      ],
      "text/plain": [
       "                                   reviews of the product  \\\n",
       "0                                           Pros and cons   \n",
       "1       Never Expected in this price range I Assure Yo...   \n",
       "2         Bass bastler, Awesome HD quality sound, rocking   \n",
       "3                                Maybe buy boat basshead    \n",
       "4          Superb head stereo better than leading brands.   \n",
       "...                                                   ...   \n",
       "449774                                           Not good   \n",
       "449775                                   Need replacement   \n",
       "449776                     Stopped working after 1 month.   \n",
       "449777                                     Cheap Quality.   \n",
       "449778                       First few days only it works   \n",
       "\n",
       "                                              Review body  \\\n",
       "0       Great quality and the sound is actually great....   \n",
       "1       I've been using this from past 6 months. This ...   \n",
       "2       Perfect bass and nice one. Superb sound and it...   \n",
       "3       Here is the review after 1 week of usePros:1.B...   \n",
       "4       Purchased after seeing review with suspicion t...   \n",
       "...                                                   ...   \n",
       "449774  One side head phone is not working within 10 d...   \n",
       "449775  Quality is good. And there is some damage near...   \n",
       "449776  Your browser does not support HTML5 video. Â A...   \n",
       "449777  This product is of very cheap quality. Wouldn'...   \n",
       "449778  Bad luck to buy, within month went bad does no...   \n",
       "\n",
       "        rating of the product  sentiment  \n",
       "0                           4          1  \n",
       "1                           4          1  \n",
       "2                           4          1  \n",
       "3                           3          1  \n",
       "4                           4          1  \n",
       "...                       ...        ...  \n",
       "449774                      0          0  \n",
       "449775                      0          0  \n",
       "449776                      2          0  \n",
       "449777                      0          0  \n",
       "449778                      1          0  \n",
       "\n",
       "[449779 rows x 4 columns]"
      ]
     },
     "execution_count": 14,
     "metadata": {},
     "output_type": "execute_result"
    }
   ],
   "source": [
    "le=LabelEncoder()\n",
    "label=le.fit_transform(data[\"sentiment\"])\n",
    "label\n",
    "data=data.drop(\"sentiment\",axis='columns')\n",
    "data[\"sentiment\"]=label\n",
    "data"
   ]
  },
  {
   "cell_type": "code",
   "execution_count": 15,
   "id": "c658da00",
   "metadata": {},
   "outputs": [],
   "source": [
    "data.drop(['Review body'],axis=1,inplace=True)"
   ]
  },
  {
   "cell_type": "code",
   "execution_count": 16,
   "id": "8920531f",
   "metadata": {},
   "outputs": [
    {
     "data": {
      "text/html": [
       "<div>\n",
       "<style scoped>\n",
       "    .dataframe tbody tr th:only-of-type {\n",
       "        vertical-align: middle;\n",
       "    }\n",
       "\n",
       "    .dataframe tbody tr th {\n",
       "        vertical-align: top;\n",
       "    }\n",
       "\n",
       "    .dataframe thead th {\n",
       "        text-align: right;\n",
       "    }\n",
       "</style>\n",
       "<table border=\"1\" class=\"dataframe\">\n",
       "  <thead>\n",
       "    <tr style=\"text-align: right;\">\n",
       "      <th></th>\n",
       "      <th>reviews of the product</th>\n",
       "      <th>rating of the product</th>\n",
       "      <th>sentiment</th>\n",
       "    </tr>\n",
       "  </thead>\n",
       "  <tbody>\n",
       "    <tr>\n",
       "      <th>0</th>\n",
       "      <td>Pros and cons</td>\n",
       "      <td>4</td>\n",
       "      <td>1</td>\n",
       "    </tr>\n",
       "    <tr>\n",
       "      <th>1</th>\n",
       "      <td>Never Expected in this price range I Assure Yo...</td>\n",
       "      <td>4</td>\n",
       "      <td>1</td>\n",
       "    </tr>\n",
       "    <tr>\n",
       "      <th>2</th>\n",
       "      <td>Bass bastler, Awesome HD quality sound, rocking</td>\n",
       "      <td>4</td>\n",
       "      <td>1</td>\n",
       "    </tr>\n",
       "    <tr>\n",
       "      <th>3</th>\n",
       "      <td>Maybe buy boat basshead</td>\n",
       "      <td>3</td>\n",
       "      <td>1</td>\n",
       "    </tr>\n",
       "    <tr>\n",
       "      <th>4</th>\n",
       "      <td>Superb head stereo better than leading brands.</td>\n",
       "      <td>4</td>\n",
       "      <td>1</td>\n",
       "    </tr>\n",
       "    <tr>\n",
       "      <th>...</th>\n",
       "      <td>...</td>\n",
       "      <td>...</td>\n",
       "      <td>...</td>\n",
       "    </tr>\n",
       "    <tr>\n",
       "      <th>449774</th>\n",
       "      <td>Not good</td>\n",
       "      <td>0</td>\n",
       "      <td>0</td>\n",
       "    </tr>\n",
       "    <tr>\n",
       "      <th>449775</th>\n",
       "      <td>Need replacement</td>\n",
       "      <td>0</td>\n",
       "      <td>0</td>\n",
       "    </tr>\n",
       "    <tr>\n",
       "      <th>449776</th>\n",
       "      <td>Stopped working after 1 month.</td>\n",
       "      <td>2</td>\n",
       "      <td>0</td>\n",
       "    </tr>\n",
       "    <tr>\n",
       "      <th>449777</th>\n",
       "      <td>Cheap Quality.</td>\n",
       "      <td>0</td>\n",
       "      <td>0</td>\n",
       "    </tr>\n",
       "    <tr>\n",
       "      <th>449778</th>\n",
       "      <td>First few days only it works</td>\n",
       "      <td>1</td>\n",
       "      <td>0</td>\n",
       "    </tr>\n",
       "  </tbody>\n",
       "</table>\n",
       "<p>449779 rows × 3 columns</p>\n",
       "</div>"
      ],
      "text/plain": [
       "                                   reviews of the product  \\\n",
       "0                                           Pros and cons   \n",
       "1       Never Expected in this price range I Assure Yo...   \n",
       "2         Bass bastler, Awesome HD quality sound, rocking   \n",
       "3                                Maybe buy boat basshead    \n",
       "4          Superb head stereo better than leading brands.   \n",
       "...                                                   ...   \n",
       "449774                                           Not good   \n",
       "449775                                   Need replacement   \n",
       "449776                     Stopped working after 1 month.   \n",
       "449777                                     Cheap Quality.   \n",
       "449778                       First few days only it works   \n",
       "\n",
       "        rating of the product  sentiment  \n",
       "0                           4          1  \n",
       "1                           4          1  \n",
       "2                           4          1  \n",
       "3                           3          1  \n",
       "4                           4          1  \n",
       "...                       ...        ...  \n",
       "449774                      0          0  \n",
       "449775                      0          0  \n",
       "449776                      2          0  \n",
       "449777                      0          0  \n",
       "449778                      1          0  \n",
       "\n",
       "[449779 rows x 3 columns]"
      ]
     },
     "execution_count": 16,
     "metadata": {},
     "output_type": "execute_result"
    }
   ],
   "source": [
    "data"
   ]
  },
  {
   "cell_type": "code",
   "execution_count": 17,
   "id": "131dc1a9",
   "metadata": {},
   "outputs": [
    {
     "data": {
      "text/plain": [
       "array(['Pros and cons',\n",
       "       'Never Expected in this price range I Assure You Will Fall In Love With These Earphones',\n",
       "       'Bass bastler, Awesome HD quality sound, rocking', ...,\n",
       "       'Stopped working after 1 month.', 'Cheap Quality.',\n",
       "       'First few days only it works'], dtype=object)"
      ]
     },
     "execution_count": 17,
     "metadata": {},
     "output_type": "execute_result"
    }
   ],
   "source": [
    "data['reviews of the product'].unique()\n"
   ]
  },
  {
   "cell_type": "code",
   "execution_count": 18,
   "id": "728f8b02",
   "metadata": {},
   "outputs": [],
   "source": [
    "# Convert all messages to lower case\n",
    "data['reviews of the product'] = data['reviews of the product'].str.lower()\n",
    "\n",
    "# Replace email addresses with 'email'\n",
    "data['reviews of the product'] = data['reviews of the product'].str.replace(r'^.+@[^\\.].*\\.[a-z]{2,}$',\n",
    "                                 'emailaddress')\n",
    "\n",
    "# Replace URLs with 'webaddress'\n",
    "data['reviews of the product'] = data['reviews of the product'].str.replace(r'^http\\://[a-zA-Z0-9\\-\\.]+\\.[a-zA-Z]{2,3}(/\\S*)?$',\n",
    "                                  'webaddress')\n",
    "\n",
    "# Replace money symbols with 'moneysymb' (£ can by typed with ALT key + 156)\n",
    "data['reviews of the product'] = data['reviews of the product'].str.replace(r'£|\\$', 'dollers')\n",
    "    \n",
    "# Replace 10 digit phone numbers (formats include paranthesis, spaces, no spaces, dashes) with 'phonenumber'\n",
    "data['reviews of the product'] = data['reviews of the product'].str.replace(r'^\\(?[\\d]{3}\\)?[\\s-]?[\\d]{3}[\\s-]?[\\d]{4}$',\n",
    "                                  'phonenumber')\n",
    "\n",
    "    \n",
    "# Replace numbers with 'numbr'\n",
    "data['reviews of the product'] = data['reviews of the product'].str.replace(r'\\d+(\\.\\d+)?', 'numbr')"
   ]
  },
  {
   "cell_type": "code",
   "execution_count": 19,
   "id": "c9b7fcfc",
   "metadata": {},
   "outputs": [
    {
     "data": {
      "text/html": [
       "<div>\n",
       "<style scoped>\n",
       "    .dataframe tbody tr th:only-of-type {\n",
       "        vertical-align: middle;\n",
       "    }\n",
       "\n",
       "    .dataframe tbody tr th {\n",
       "        vertical-align: top;\n",
       "    }\n",
       "\n",
       "    .dataframe thead th {\n",
       "        text-align: right;\n",
       "    }\n",
       "</style>\n",
       "<table border=\"1\" class=\"dataframe\">\n",
       "  <thead>\n",
       "    <tr style=\"text-align: right;\">\n",
       "      <th></th>\n",
       "      <th>rating of the product</th>\n",
       "      <th>sentiment</th>\n",
       "      <th>reviews of the product</th>\n",
       "    </tr>\n",
       "  </thead>\n",
       "  <tbody>\n",
       "    <tr>\n",
       "      <th>0</th>\n",
       "      <td>4</td>\n",
       "      <td>1</td>\n",
       "      <td>130346</td>\n",
       "    </tr>\n",
       "    <tr>\n",
       "      <th>1</th>\n",
       "      <td>4</td>\n",
       "      <td>1</td>\n",
       "      <td>102375</td>\n",
       "    </tr>\n",
       "    <tr>\n",
       "      <th>2</th>\n",
       "      <td>4</td>\n",
       "      <td>1</td>\n",
       "      <td>14460</td>\n",
       "    </tr>\n",
       "    <tr>\n",
       "      <th>3</th>\n",
       "      <td>3</td>\n",
       "      <td>1</td>\n",
       "      <td>96747</td>\n",
       "    </tr>\n",
       "    <tr>\n",
       "      <th>4</th>\n",
       "      <td>4</td>\n",
       "      <td>1</td>\n",
       "      <td>149079</td>\n",
       "    </tr>\n",
       "    <tr>\n",
       "      <th>...</th>\n",
       "      <td>...</td>\n",
       "      <td>...</td>\n",
       "      <td>...</td>\n",
       "    </tr>\n",
       "    <tr>\n",
       "      <th>449774</th>\n",
       "      <td>0</td>\n",
       "      <td>0</td>\n",
       "      <td>110952</td>\n",
       "    </tr>\n",
       "    <tr>\n",
       "      <th>449775</th>\n",
       "      <td>0</td>\n",
       "      <td>0</td>\n",
       "      <td>101961</td>\n",
       "    </tr>\n",
       "    <tr>\n",
       "      <th>449776</th>\n",
       "      <td>2</td>\n",
       "      <td>0</td>\n",
       "      <td>145825</td>\n",
       "    </tr>\n",
       "    <tr>\n",
       "      <th>449777</th>\n",
       "      <td>0</td>\n",
       "      <td>0</td>\n",
       "      <td>35541</td>\n",
       "    </tr>\n",
       "    <tr>\n",
       "      <th>449778</th>\n",
       "      <td>1</td>\n",
       "      <td>0</td>\n",
       "      <td>53942</td>\n",
       "    </tr>\n",
       "  </tbody>\n",
       "</table>\n",
       "<p>449779 rows × 3 columns</p>\n",
       "</div>"
      ],
      "text/plain": [
       "        rating of the product  sentiment  reviews of the product\n",
       "0                           4          1                  130346\n",
       "1                           4          1                  102375\n",
       "2                           4          1                   14460\n",
       "3                           3          1                   96747\n",
       "4                           4          1                  149079\n",
       "...                       ...        ...                     ...\n",
       "449774                      0          0                  110952\n",
       "449775                      0          0                  101961\n",
       "449776                      2          0                  145825\n",
       "449777                      0          0                   35541\n",
       "449778                      1          0                   53942\n",
       "\n",
       "[449779 rows x 3 columns]"
      ]
     },
     "execution_count": 19,
     "metadata": {},
     "output_type": "execute_result"
    }
   ],
   "source": [
    "le=LabelEncoder()\n",
    "label=le.fit_transform(data[\"reviews of the product\"])\n",
    "label\n",
    "data=data.drop(\"reviews of the product\",axis='columns')\n",
    "data[\"reviews of the product\"]=label\n",
    "data"
   ]
  },
  {
   "cell_type": "code",
   "execution_count": 20,
   "id": "26a457b0",
   "metadata": {},
   "outputs": [
    {
     "name": "stdout",
     "output_type": "stream",
     "text": [
      "<class 'pandas.core.frame.DataFrame'>\n",
      "RangeIndex: 449779 entries, 0 to 449778\n",
      "Data columns (total 3 columns):\n",
      " #   Column                  Non-Null Count   Dtype\n",
      "---  ------                  --------------   -----\n",
      " 0   rating of the product   449779 non-null  int32\n",
      " 1   sentiment               449779 non-null  int32\n",
      " 2   reviews of the product  449779 non-null  int32\n",
      "dtypes: int32(3)\n",
      "memory usage: 5.1 MB\n"
     ]
    }
   ],
   "source": [
    "data.info()"
   ]
  },
  {
   "cell_type": "code",
   "execution_count": 21,
   "id": "0132e0cd",
   "metadata": {},
   "outputs": [
    {
     "data": {
      "text/plain": [
       "rating of the product     0\n",
       "sentiment                 0\n",
       "reviews of the product    0\n",
       "dtype: int64"
      ]
     },
     "execution_count": 21,
     "metadata": {},
     "output_type": "execute_result"
    }
   ],
   "source": [
    "data.isnull().sum()"
   ]
  },
  {
   "cell_type": "code",
   "execution_count": 22,
   "id": "9ebabf91",
   "metadata": {},
   "outputs": [
    {
     "data": {
      "image/png": "[encoded data removed]",
      "text/plain": [
       "<Figure size 432x288 with 2 Axes>"
      ]
     },
     "metadata": {
      "needs_background": "light"
     },
     "output_type": "display_data"
    }
   ],
   "source": [
    "sns.heatmap(data.isnull())\n",
    "plt.title(\"Null values\")\n",
    "plt.show()"
   ]
  },
  {
   "cell_type": "code",
   "execution_count": 23,
   "id": "be4ed789",
   "metadata": {},
   "outputs": [
    {
     "data": {
      "text/html": [
       "<div>\n",
       "<style scoped>\n",
       "    .dataframe tbody tr th:only-of-type {\n",
       "        vertical-align: middle;\n",
       "    }\n",
       "\n",
       "    .dataframe tbody tr th {\n",
       "        vertical-align: top;\n",
       "    }\n",
       "\n",
       "    .dataframe thead th {\n",
       "        text-align: right;\n",
       "    }\n",
       "</style>\n",
       "<table border=\"1\" class=\"dataframe\">\n",
       "  <thead>\n",
       "    <tr style=\"text-align: right;\">\n",
       "      <th></th>\n",
       "      <th>rating of the product</th>\n",
       "      <th>sentiment</th>\n",
       "      <th>reviews of the product</th>\n",
       "    </tr>\n",
       "  </thead>\n",
       "  <tbody>\n",
       "    <tr>\n",
       "      <th>count</th>\n",
       "      <td>449779.000000</td>\n",
       "      <td>449779.000000</td>\n",
       "      <td>449779.000000</td>\n",
       "    </tr>\n",
       "    <tr>\n",
       "      <th>mean</th>\n",
       "      <td>3.290294</td>\n",
       "      <td>0.851801</td>\n",
       "      <td>88234.401288</td>\n",
       "    </tr>\n",
       "    <tr>\n",
       "      <th>std</th>\n",
       "      <td>1.177584</td>\n",
       "      <td>0.355298</td>\n",
       "      <td>50706.045663</td>\n",
       "    </tr>\n",
       "    <tr>\n",
       "      <th>min</th>\n",
       "      <td>0.000000</td>\n",
       "      <td>0.000000</td>\n",
       "      <td>0.000000</td>\n",
       "    </tr>\n",
       "    <tr>\n",
       "      <th>25%</th>\n",
       "      <td>3.000000</td>\n",
       "      <td>1.000000</td>\n",
       "      <td>50934.000000</td>\n",
       "    </tr>\n",
       "    <tr>\n",
       "      <th>50%</th>\n",
       "      <td>4.000000</td>\n",
       "      <td>1.000000</td>\n",
       "      <td>80997.000000</td>\n",
       "    </tr>\n",
       "    <tr>\n",
       "      <th>75%</th>\n",
       "      <td>4.000000</td>\n",
       "      <td>1.000000</td>\n",
       "      <td>131478.500000</td>\n",
       "    </tr>\n",
       "    <tr>\n",
       "      <th>max</th>\n",
       "      <td>4.000000</td>\n",
       "      <td>1.000000</td>\n",
       "      <td>178494.000000</td>\n",
       "    </tr>\n",
       "  </tbody>\n",
       "</table>\n",
       "</div>"
      ],
      "text/plain": [
       "       rating of the product      sentiment  reviews of the product\n",
       "count          449779.000000  449779.000000           449779.000000\n",
       "mean                3.290294       0.851801            88234.401288\n",
       "std                 1.177584       0.355298            50706.045663\n",
       "min                 0.000000       0.000000                0.000000\n",
       "25%                 3.000000       1.000000            50934.000000\n",
       "50%                 4.000000       1.000000            80997.000000\n",
       "75%                 4.000000       1.000000           131478.500000\n",
       "max                 4.000000       1.000000           178494.000000"
      ]
     },
     "execution_count": 23,
     "metadata": {},
     "output_type": "execute_result"
    }
   ],
   "source": [
    "data.describe()"
   ]
  },
  {
   "cell_type": "code",
   "execution_count": 24,
   "id": "c583f99a",
   "metadata": {},
   "outputs": [
    {
     "data": {
      "text/html": [
       "<div>\n",
       "<style scoped>\n",
       "    .dataframe tbody tr th:only-of-type {\n",
       "        vertical-align: middle;\n",
       "    }\n",
       "\n",
       "    .dataframe tbody tr th {\n",
       "        vertical-align: top;\n",
       "    }\n",
       "\n",
       "    .dataframe thead th {\n",
       "        text-align: right;\n",
       "    }\n",
       "</style>\n",
       "<table border=\"1\" class=\"dataframe\">\n",
       "  <thead>\n",
       "    <tr style=\"text-align: right;\">\n",
       "      <th></th>\n",
       "      <th>rating of the product</th>\n",
       "      <th>sentiment</th>\n",
       "      <th>reviews of the product</th>\n",
       "    </tr>\n",
       "  </thead>\n",
       "  <tbody>\n",
       "    <tr>\n",
       "      <th>rating of the product</th>\n",
       "      <td>1.000000</td>\n",
       "      <td>0.877381</td>\n",
       "      <td>-0.074488</td>\n",
       "    </tr>\n",
       "    <tr>\n",
       "      <th>sentiment</th>\n",
       "      <td>0.877381</td>\n",
       "      <td>1.000000</td>\n",
       "      <td>-0.070817</td>\n",
       "    </tr>\n",
       "    <tr>\n",
       "      <th>reviews of the product</th>\n",
       "      <td>-0.074488</td>\n",
       "      <td>-0.070817</td>\n",
       "      <td>1.000000</td>\n",
       "    </tr>\n",
       "  </tbody>\n",
       "</table>\n",
       "</div>"
      ],
      "text/plain": [
       "                        rating of the product  sentiment  \\\n",
       "rating of the product                1.000000   0.877381   \n",
       "sentiment                            0.877381   1.000000   \n",
       "reviews of the product              -0.074488  -0.070817   \n",
       "\n",
       "                        reviews of the product  \n",
       "rating of the product                -0.074488  \n",
       "sentiment                            -0.070817  \n",
       "reviews of the product                1.000000  "
      ]
     },
     "execution_count": 24,
     "metadata": {},
     "output_type": "execute_result"
    }
   ],
   "source": [
    "data.corr()"
   ]
  },
  {
   "cell_type": "code",
   "execution_count": 25,
   "id": "b8a2a3e2",
   "metadata": {},
   "outputs": [
    {
     "data": {
      "text/plain": [
       "<AxesSubplot:>"
      ]
     },
     "execution_count": 25,
     "metadata": {},
     "output_type": "execute_result"
    },
    {
     "data": {
      "image/png": "[encoded data removed]",
      "text/plain": [
       "<Figure size 1584x504 with 2 Axes>"
      ]
     },
     "metadata": {
      "needs_background": "light"
     },
     "output_type": "display_data"
    }
   ],
   "source": [
    "#heat map\n",
    "plt.figure(figsize=(22,7))\n",
    "sns.heatmap(data.corr(),annot=True,linewidths=0.1,linecolor='black',fmt='0.2f')"
   ]
  },
  {
   "cell_type": "code",
   "execution_count": 26,
   "id": "06c8533d",
   "metadata": {
    "scrolled": true
   },
   "outputs": [
    {
     "data": {
      "text/plain": [
       "rating of the product    -1.831271\n",
       "sentiment                -1.980322\n",
       "reviews of the product    0.116532\n",
       "dtype: float64"
      ]
     },
     "execution_count": 26,
     "metadata": {},
     "output_type": "execute_result"
    }
   ],
   "source": [
    "# checking the skewness for the features:\n",
    "data.skew()"
   ]
  },
  {
   "cell_type": "code",
   "execution_count": 27,
   "id": "205431cc",
   "metadata": {},
   "outputs": [
    {
     "data": {
      "text/plain": [
       "rating of the product        AxesSubplot(0.125,0.125;0.227941x0.755)\n",
       "sentiment                 AxesSubplot(0.398529,0.125;0.227941x0.755)\n",
       "reviews of the product    AxesSubplot(0.672059,0.125;0.227941x0.755)\n",
       "dtype: object"
      ]
     },
     "execution_count": 27,
     "metadata": {},
     "output_type": "execute_result"
    },
    {
     "data": {
      "image/png": "[encoded data removed]",
      "text/plain": [
       "<Figure size 1080x720 with 3 Axes>"
      ]
     },
     "metadata": {
      "needs_background": "light"
     },
     "output_type": "display_data"
    }
   ],
   "source": [
    "#plotting the boxplot of each column to check the outliers \n",
    "data.plot(kind='box',subplots = True,layout=(1,3),figsize = (15,10))"
   ]
  },
  {
   "cell_type": "code",
   "execution_count": 28,
   "id": "d0dbcbe5",
   "metadata": {},
   "outputs": [
    {
     "name": "stdout",
     "output_type": "stream",
     "text": [
      "[[0.60268069 0.41711359 0.83050542]\n",
      " [0.60268069 0.41711359 0.27887433]\n",
      " [0.60268069 0.41711359 1.45494452]\n",
      " ...\n",
      " [1.09571391 2.3974285  1.13577507]\n",
      " [2.79410851 2.3974285  1.03919482]\n",
      " [1.94491121 2.3974285  0.67629883]]\n"
     ]
    }
   ],
   "source": [
    "#calculate the zscore\n",
    "z = np.abs(zscore(data))\n",
    "print(z)"
   ]
  },
  {
   "cell_type": "code",
   "execution_count": 29,
   "id": "85e10771",
   "metadata": {},
   "outputs": [
    {
     "data": {
      "text/plain": [
       "array([[<AxesSubplot:title={'center':'rating of the product'}>,\n",
       "        <AxesSubplot:title={'center':'sentiment'}>,\n",
       "        <AxesSubplot:title={'center':'reviews of the product'}>]],\n",
       "      dtype=object)"
      ]
     },
     "execution_count": 29,
     "metadata": {},
     "output_type": "execute_result"
    },
    {
     "data": {
      "image/png": "[encoded data removed]",
      "text/plain": [
       "<Figure size 1440x1440 with 3 Axes>"
      ]
     },
     "metadata": {
      "needs_background": "light"
     },
     "output_type": "display_data"
    }
   ],
   "source": [
    "#plotting histogram for univariate analysis and checking the Normal Distribution\n",
    "data.hist(figsize=(20,20), grid = True, layout = (1,3), bins = 30)"
   ]
  },
  {
   "cell_type": "code",
   "execution_count": 30,
   "id": "a9fb106f",
   "metadata": {},
   "outputs": [
    {
     "name": "stdout",
     "output_type": "stream",
     "text": [
      "(449779, 2)\n",
      "(449779, 1)\n"
     ]
    }
   ],
   "source": [
    "#assign the value of x and y for training and testing phase\n",
    "x = data.drop(columns=['rating of the product'])\n",
    "y = data[[\"rating of the product\"]]\n",
    "print(x.shape)\n",
    "print(y.shape)"
   ]
  },
  {
   "cell_type": "code",
   "execution_count": 31,
   "id": "027ed872",
   "metadata": {},
   "outputs": [],
   "source": [
    "#Standardize the value of x so that mean will 0 and SD will become 1 , and make the data as normal distributed\n",
    "sc = StandardScaler()\n",
    "sc.fit_transform(x)\n",
    "x = pd.DataFrame(x,columns=x.columns)"
   ]
  },
  {
   "cell_type": "code",
   "execution_count": 32,
   "id": "5dcf4f36",
   "metadata": {},
   "outputs": [
    {
     "name": "stdout",
     "output_type": "stream",
     "text": [
      "R2 score correspond to random state  1 is 0.7459957705355454\n",
      "R2 score correspond to random state  1 is 0.5598293760838253\n",
      "R2 score correspond to random state  1 is 0.7415233785597602\n",
      "R2 score correspond to random state  1 is 0.7682332981886129\n",
      "R2 score correspond to random state  1 is 0.7890053764958606\n",
      "R2 score correspond to random state  2 is 0.7490767048414311\n",
      "R2 score correspond to random state  2 is 0.5571270233152144\n",
      "R2 score correspond to random state  2 is 0.7449502565091366\n",
      "R2 score correspond to random state  2 is 0.7700078641642641\n",
      "R2 score correspond to random state  2 is 0.7898222786625464\n",
      "R2 score correspond to random state  3 is 0.7497766070649525\n",
      "R2 score correspond to random state  3 is 0.5653350025200762\n",
      "R2 score correspond to random state  3 is 0.7378306496300502\n",
      "R2 score correspond to random state  3 is 0.7700552820114656\n",
      "R2 score correspond to random state  3 is 0.7911580910225299\n",
      "R2 score correspond to random state  4 is 0.7465563356235569\n",
      "R2 score correspond to random state  4 is 0.561951238298308\n",
      "R2 score correspond to random state  4 is 0.7408031708788814\n",
      "R2 score correspond to random state  4 is 0.7696137264972623\n",
      "R2 score correspond to random state  4 is 0.7906587265469243\n",
      "R2 score correspond to random state  5 is 0.7459053397445194\n",
      "R2 score correspond to random state  5 is 0.5620494989400621\n",
      "R2 score correspond to random state  5 is 0.744005806975169\n",
      "R2 score correspond to random state  5 is 0.7692861702474396\n",
      "R2 score correspond to random state  5 is 0.7896741318029532\n",
      "R2 score correspond to random state  6 is 0.74819501193612\n",
      "R2 score correspond to random state  6 is 0.5647831353596282\n",
      "R2 score correspond to random state  6 is 0.7406117677680553\n",
      "R2 score correspond to random state  6 is 0.7684179746533916\n",
      "R2 score correspond to random state  6 is 0.7889634902684934\n",
      "R2 score correspond to random state  7 is 0.74705305241146\n",
      "R2 score correspond to random state  7 is 0.5605130775523117\n",
      "R2 score correspond to random state  7 is 0.744806520147484\n",
      "R2 score correspond to random state  7 is 0.7684572633456088\n",
      "R2 score correspond to random state  7 is 0.7892906109879212\n",
      "R2 score correspond to random state  8 is 0.7490457190698813\n",
      "R2 score correspond to random state  8 is 0.5573728355951426\n",
      "R2 score correspond to random state  8 is 0.7450490061072964\n",
      "R2 score correspond to random state  8 is 0.7693454089525015\n",
      "R2 score correspond to random state  8 is 0.7901097699258589\n",
      "R2 score correspond to random state  9 is 0.7492822573183051\n",
      "R2 score correspond to random state  9 is 0.5567015522766654\n",
      "R2 score correspond to random state  9 is 0.7693538262154724\n",
      "R2 score correspond to random state  9 is 0.7695737685031453\n",
      "R2 score correspond to random state  9 is 0.7898306504084491\n",
      "R2 score correspond to random state  10 is 0.7485501206278385\n",
      "R2 score correspond to random state  10 is 0.5644459104876576\n",
      "R2 score correspond to random state  10 is 0.737371870306142\n",
      "R2 score correspond to random state  10 is 0.7680760811414993\n",
      "R2 score correspond to random state  10 is 0.7887291769831888\n",
      "R2 score correspond to random state  11 is 0.7484595360024164\n",
      "R2 score correspond to random state  11 is 0.5540667427594816\n",
      "R2 score correspond to random state  11 is 0.7457030897959582\n",
      "R2 score correspond to random state  11 is 0.7705643550007315\n",
      "R2 score correspond to random state  11 is 0.7911803383404592\n",
      "R2 score correspond to random state  12 is 0.7502606407070866\n",
      "R2 score correspond to random state  12 is 0.5639638796621603\n",
      "R2 score correspond to random state  12 is 0.7381830714668793\n",
      "R2 score correspond to random state  12 is 0.771023948065238\n",
      "R2 score correspond to random state  12 is 0.7911868667037343\n",
      "R2 score correspond to random state  13 is 0.7462962477843664\n",
      "R2 score correspond to random state  13 is 0.5600138944129145\n",
      "R2 score correspond to random state  13 is 0.7447610157423157\n",
      "R2 score correspond to random state  13 is 0.7704369298999776\n",
      "R2 score correspond to random state  13 is 0.7912538467699775\n",
      "R2 score correspond to random state  14 is 0.7456135722677657\n",
      "R2 score correspond to random state  14 is 0.5599690342256896\n",
      "R2 score correspond to random state  14 is 0.7686054620965934\n",
      "R2 score correspond to random state  14 is 0.7685615709283091\n",
      "R2 score correspond to random state  14 is 0.78934109807642\n",
      "R2 score correspond to random state  15 is 0.7464529251108428\n",
      "R2 score correspond to random state  15 is 0.5567817717936585\n",
      "R2 score correspond to random state  15 is 0.7411546291428124\n",
      "R2 score correspond to random state  15 is 0.7694021205420222\n",
      "R2 score correspond to random state  15 is 0.7899859439007026\n",
      "R2 score correspond to random state  16 is 0.7506175310575895\n",
      "R2 score correspond to random state  16 is 0.557982417157018\n",
      "R2 score correspond to random state  16 is 0.7411803732982973\n",
      "R2 score correspond to random state  16 is 0.7703113788146548\n",
      "R2 score correspond to random state  16 is 0.7905426471602451\n",
      "R2 score correspond to random state  17 is 0.7432906299761335\n",
      "R2 score correspond to random state  17 is 0.5629790029585453\n",
      "R2 score correspond to random state  17 is 0.7376958867506795\n",
      "R2 score correspond to random state  17 is 0.7691627924207215\n",
      "R2 score correspond to random state  17 is 0.788393134148547\n",
      "R2 score correspond to random state  18 is 0.7494068448904732\n",
      "R2 score correspond to random state  18 is 0.5624406661753307\n",
      "R2 score correspond to random state  18 is 0.7444872802544834\n",
      "R2 score correspond to random state  18 is 0.7714506336148205\n",
      "R2 score correspond to random state  18 is 0.791088502821783\n",
      "R2 score correspond to random state  19 is 0.7485516422942076\n",
      "R2 score correspond to random state  19 is 0.5637459398328165\n",
      "R2 score correspond to random state  19 is 0.7440949636726115\n",
      "R2 score correspond to random state  19 is 0.7701785854389631\n",
      "R2 score correspond to random state  19 is 0.7915127998848521\n",
      "R2 score correspond to random state  20 is 0.7492656503140964\n",
      "R2 score correspond to random state  20 is 0.5567799424749393\n",
      "R2 score correspond to random state  20 is 0.7456417512656682\n",
      "R2 score correspond to random state  20 is 0.7709891586399995\n",
      "R2 score correspond to random state  20 is 0.7912627407329897\n",
      "R2 score correspond to random state  21 is 0.7525416692802727\n",
      "R2 score correspond to random state  21 is 0.5651998192150905\n",
      "R2 score correspond to random state  21 is 0.7703331641967899\n",
      "R2 score correspond to random state  21 is 0.7717768779047175\n",
      "R2 score correspond to random state  21 is 0.7919588581829433\n",
      "R2 score correspond to random state  22 is 0.7467126867496272\n",
      "R2 score correspond to random state  22 is 0.55479620045221\n",
      "R2 score correspond to random state  22 is 0.7087020531189224\n",
      "R2 score correspond to random state  22 is 0.7677855181889698\n",
      "R2 score correspond to random state  22 is 0.7885212760829658\n",
      "R2 score correspond to random state  23 is 0.7486199416069291\n",
      "R2 score correspond to random state  23 is 0.5633672806429324\n",
      "R2 score correspond to random state  23 is 0.7436695034095493\n",
      "R2 score correspond to random state  23 is 0.7715629638343852\n",
      "R2 score correspond to random state  23 is 0.792376543540731\n",
      "R2 score correspond to random state  24 is 0.7526458138452183\n",
      "R2 score correspond to random state  24 is 0.5603834330350496\n",
      "R2 score correspond to random state  24 is 0.7391490054350904\n",
      "R2 score correspond to random state  24 is 0.7723247432269564\n",
      "R2 score correspond to random state  24 is 0.7930078450154786\n",
      "R2 score correspond to random state  25 is 0.7449779970514345\n",
      "R2 score correspond to random state  25 is 0.5566907464946714\n",
      "R2 score correspond to random state  25 is 0.7439358769939111\n",
      "R2 score correspond to random state  25 is 0.7648241002296832\n",
      "R2 score correspond to random state  25 is 0.78546726072729\n",
      "R2 score correspond to random state  26 is 0.7458016300758348\n",
      "R2 score correspond to random state  26 is 0.5596742278313238\n",
      "R2 score correspond to random state  26 is 0.7431761052817845\n",
      "R2 score correspond to random state  26 is 0.7690384146148431\n",
      "R2 score correspond to random state  26 is 0.7898493907243396\n",
      "R2 score correspond to random state  27 is 0.7478689822172735\n",
      "R2 score correspond to random state  27 is 0.5668450609173772\n",
      "R2 score correspond to random state  27 is 0.744735066516311\n",
      "R2 score correspond to random state  27 is 0.7734427096799055\n",
      "R2 score correspond to random state  27 is 0.7934134641179266\n",
      "R2 score correspond to random state  28 is 0.746937854226865\n",
      "R2 score correspond to random state  28 is 0.5610097594663308\n",
      "R2 score correspond to random state  28 is 0.7456720056642296\n",
      "R2 score correspond to random state  28 is 0.7677283414355747\n",
      "R2 score correspond to random state  28 is 0.7889919768837137\n",
      "R2 score correspond to random state  29 is 0.7458706669388004\n",
      "R2 score correspond to random state  29 is 0.5678071351419125\n",
      "R2 score correspond to random state  29 is 0.7378213825597606\n",
      "R2 score correspond to random state  29 is 0.7682865411754808\n",
      "R2 score correspond to random state  29 is 0.7888725474739271\n",
      "R2 score correspond to random state  30 is 0.7460715834300139\n",
      "R2 score correspond to random state  30 is 0.5590465757312675\n",
      "R2 score correspond to random state  30 is 0.7686468572682659\n",
      "R2 score correspond to random state  30 is 0.768926871050728\n",
      "R2 score correspond to random state  30 is 0.7897844571549014\n",
      "R2 score correspond to random state  31 is 0.7453279044017432\n",
      "R2 score correspond to random state  31 is 0.5541635739269103\n",
      "R2 score correspond to random state  31 is 0.7412052169677513\n",
      "R2 score correspond to random state  31 is 0.7679752067823549\n",
      "R2 score correspond to random state  31 is 0.7888554255859277\n",
      "R2 score correspond to random state  32 is 0.7488345726158125\n",
      "R2 score correspond to random state  32 is 0.5556254384213929\n",
      "R2 score correspond to random state  32 is 0.7434557416452822\n",
      "R2 score correspond to random state  32 is 0.7702039750515894\n",
      "R2 score correspond to random state  32 is 0.7909423446047286\n",
      "R2 score correspond to random state  33 is 0.747282085880451\n",
      "R2 score correspond to random state  33 is 0.5547364271837347\n",
      "R2 score correspond to random state  33 is 0.7455918132401493\n",
      "R2 score correspond to random state  33 is 0.771203716160223\n",
      "R2 score correspond to random state  33 is 0.7919844470160162\n",
      "R2 score correspond to random state  34 is 0.7455879069557093\n",
      "R2 score correspond to random state  34 is 0.5556590130522564\n",
      "R2 score correspond to random state  34 is 0.7456911348016846\n",
      "R2 score correspond to random state  34 is 0.7702737581685688\n",
      "R2 score correspond to random state  34 is 0.7905272549440057\n",
      "R2 score correspond to random state  35 is 0.7505349982269607\n",
      "R2 score correspond to random state  35 is 0.5607012633640966\n",
      "R2 score correspond to random state  35 is 0.7400687765195897\n",
      "R2 score correspond to random state  35 is 0.7696468659199369\n",
      "R2 score correspond to random state  35 is 0.7902608157095387\n",
      "R2 score correspond to random state  36 is 0.7520526581499292\n",
      "R2 score correspond to random state  36 is 0.5640121442208359\n",
      "R2 score correspond to random state  36 is 0.7472700888624088\n",
      "R2 score correspond to random state  36 is 0.7722866684354744\n",
      "R2 score correspond to random state  36 is 0.7929022396496079\n",
      "R2 score correspond to random state  37 is 0.748069080561141\n",
      "R2 score correspond to random state  37 is 0.5605639276482708\n",
      "R2 score correspond to random state  37 is 0.7454183163868073\n",
      "R2 score correspond to random state  37 is 0.7714095874760694\n",
      "R2 score correspond to random state  37 is 0.7918910719976128\n",
      "R2 score correspond to random state  38 is 0.7497817852010156\n",
      "R2 score correspond to random state  38 is 0.5574496684420183\n",
      "R2 score correspond to random state  38 is 0.7438683510887598\n",
      "R2 score correspond to random state  38 is 0.7714636488668435\n",
      "R2 score correspond to random state  38 is 0.7918409816598349\n",
      "R2 score correspond to random state  39 is 0.7471232166970536\n",
      "R2 score correspond to random state  39 is 0.5669590530725759\n",
      "R2 score correspond to random state  39 is 0.7381411037053747\n",
      "R2 score correspond to random state  39 is 0.7667142923206639\n",
      "R2 score correspond to random state  39 is 0.7873251885253252\n",
      "R2 score correspond to random state  40 is 0.7451169547461918\n",
      "R2 score correspond to random state  40 is 0.5604560919265219\n",
      "R2 score correspond to random state  40 is 0.7380043953244219\n",
      "R2 score correspond to random state  40 is 0.7655722708402045\n",
      "R2 score correspond to random state  40 is 0.7874624703698787\n",
      "R2 score correspond to random state  41 is 0.7484292525919949\n",
      "R2 score correspond to random state  41 is 0.5602669658468535\n",
      "R2 score correspond to random state  41 is 0.741137468838462\n",
      "R2 score correspond to random state  41 is 0.7682013984974954\n",
      "R2 score correspond to random state  41 is 0.7886293259821056\n",
      "R2 score correspond to random state  42 is 0.7466367539085059\n",
      "R2 score correspond to random state  42 is 0.5564310548534466\n",
      "R2 score correspond to random state  42 is 0.7471904978056316\n",
      "R2 score correspond to random state  42 is 0.767510910238203\n",
      "R2 score correspond to random state  42 is 0.7881297436297899\n",
      "R2 score correspond to random state  43 is 0.7467583163348221\n",
      "R2 score correspond to random state  43 is 0.5611183558502635\n",
      "R2 score correspond to random state  43 is 0.7404146806641283\n",
      "R2 score correspond to random state  43 is 0.7711653087459616\n",
      "R2 score correspond to random state  43 is 0.7913795289126137\n",
      "R2 score correspond to random state  44 is 0.7543797257998583\n",
      "R2 score correspond to random state  44 is 0.5650776088312116\n",
      "R2 score correspond to random state  44 is 0.747217519332849\n",
      "R2 score correspond to random state  44 is 0.7730122971908208\n",
      "R2 score correspond to random state  44 is 0.7934816995515146\n",
      "R2 score correspond to random state  45 is 0.750465461438848\n",
      "R2 score correspond to random state  45 is 0.5561284913543498\n",
      "R2 score correspond to random state  45 is 0.7423285527963319\n",
      "R2 score correspond to random state  45 is 0.7675731353551436\n",
      "R2 score correspond to random state  45 is 0.7892600050382823\n",
      "R2 score correspond to random state  46 is 0.7449660591438643\n",
      "R2 score correspond to random state  46 is 0.5537654360504316\n",
      "R2 score correspond to random state  46 is 0.7390457323682825\n",
      "R2 score correspond to random state  46 is 0.769331631166648\n",
      "R2 score correspond to random state  46 is 0.79016360661467\n",
      "R2 score correspond to random state  47 is 0.7455667373766366\n",
      "R2 score correspond to random state  47 is 0.5567089744459088\n",
      "R2 score correspond to random state  47 is 0.7423829483010307\n",
      "R2 score correspond to random state  47 is 0.7677094676716025\n",
      "R2 score correspond to random state  47 is 0.7881651321659785\n",
      "R2 score correspond to random state  48 is 0.7503896216019389\n",
      "R2 score correspond to random state  48 is 0.5632750262160446\n",
      "R2 score correspond to random state  48 is 0.7450238061032981\n",
      "R2 score correspond to random state  48 is 0.7694466975515564\n",
      "R2 score correspond to random state  48 is 0.7899046260227498\n",
      "R2 score correspond to random state  49 is 0.749573022571603\n",
      "R2 score correspond to random state  49 is 0.5618678973655603\n",
      "R2 score correspond to random state  49 is 0.7413115874625463\n",
      "R2 score correspond to random state  49 is 0.7701819967404006\n",
      "R2 score correspond to random state  49 is 0.790479751381479\n",
      "\n",
      "\n",
      "\n",
      "\n",
      "max R2 score correspond to random state  44 is 0.7934816995515146 and model is GradientBoostingRegressor()\n"
     ]
    }
   ],
   "source": [
    "#Now by using multiple Algorithms we are calculating the best Algo which suit best for our data set \n",
    "\n",
    "model = [DecisionTreeRegressor(),KNeighborsRegressor(),AdaBoostRegressor(),LinearRegression(),GradientBoostingRegressor()]\n",
    "max_r2_score = 0\n",
    "for r_state in range(1,50):\n",
    "    train_x,test_x,train_y,test_y = train_test_split(x,y,random_state = r_state,test_size = 0.24)\n",
    "    for i in model:\n",
    "        i.fit(train_x,train_y)\n",
    "        pre = i.predict(test_x)\n",
    "        r2_sc = r2_score(test_y,pre)\n",
    "        print(\"R2 score correspond to random state \" ,r_state ,\"is\", r2_sc)\n",
    "        if r2_sc> max_r2_score:\n",
    "            max_r2_score=r2_sc\n",
    "            final_state = r_state\n",
    "            final_model = i\n",
    "            \n",
    "print()\n",
    "print()\n",
    "print()\n",
    "print()\n",
    "print(\"max R2 score correspond to random state \" ,final_state , \"is\" , max_r2_score ,\"and model is\",final_model)\n",
    "        "
   ]
  },
  {
   "cell_type": "code",
   "execution_count": 33,
   "id": "0d04a00d",
   "metadata": {},
   "outputs": [
    {
     "name": "stdout",
     "output_type": "stream",
     "text": [
      "R2 Score : 79.04797513814789\n"
     ]
    }
   ],
   "source": [
    "gbr = GradientBoostingRegressor()\n",
    "gbr.fit(train_x,train_y)\n",
    "pred = gbr.predict(test_x)\n",
    "r2_sc = r2_score(test_y,pred)\n",
    "print(\"R2 Score :\",r2_sc*100)"
   ]
  },
  {
   "cell_type": "code",
   "execution_count": 34,
   "id": "f6144cc2",
   "metadata": {},
   "outputs": [
    {
     "data": {
      "text/plain": [
       "Text(0, 0.5, 'predicted_rating of the product')"
      ]
     },
     "execution_count": 34,
     "metadata": {},
     "output_type": "execute_result"
    },
    {
     "data": {
      "image/png": "[encoded data removed]",
      "text/plain": [
       "<Figure size 432x288 with 1 Axes>"
      ]
     },
     "metadata": {
      "needs_background": "light"
     },
     "output_type": "display_data"
    }
   ],
   "source": [
    "#checking the diff between actual and predicted value using graph\n",
    "plt.scatter(x=test_y,y=pred)\n",
    "plt.xlabel('rating of the product')\n",
    "plt.ylabel('predicted_rating of the product')"
   ]
  },
  {
   "cell_type": "markdown",
   "id": "67ea6f5e",
   "metadata": {},
   "source": [
    "# saving model"
   ]
  },
  {
   "cell_type": "code",
   "execution_count": 35,
   "id": "aa622fca",
   "metadata": {},
   "outputs": [],
   "source": [
    "import pickle"
   ]
  },
  {
   "cell_type": "code",
   "execution_count": 36,
   "id": "6a6dd79d",
   "metadata": {},
   "outputs": [],
   "source": [
    "#saving model to the local file system\n",
    "filename='Ratings Prediction.pickle'\n",
    "pickle.dump(gbr,open(filename,'wb'))"
   ]
  },
  {
   "cell_type": "code",
   "execution_count": 37,
   "id": "0ba704ae",
   "metadata": {},
   "outputs": [
    {
     "data": {
      "text/plain": [
       "'Ratings Prediction.pickle'"
      ]
     },
     "execution_count": 37,
     "metadata": {},
     "output_type": "execute_result"
    }
   ],
   "source": [
    "filename"
   ]
  },
  {
   "cell_type": "code",
   "execution_count": 38,
   "id": "41e1d6b5",
   "metadata": {},
   "outputs": [
    {
     "data": {
      "text/plain": [
       "array([[ 0.41711359,  0.83050542],\n",
       "       [ 0.41711359,  0.27887433],\n",
       "       [ 0.41711359, -1.45494452],\n",
       "       ...,\n",
       "       [-2.3974285 ,  1.13577507],\n",
       "       [-2.3974285 , -1.03919482],\n",
       "       [-2.3974285 , -0.67629883]])"
      ]
     },
     "execution_count": 38,
     "metadata": {},
     "output_type": "execute_result"
    }
   ],
   "source": [
    "scalar=StandardScaler()\n",
    "x_scaled=scalar.fit_transform(x)\n",
    "x_scaled"
   ]
  },
  {
   "cell_type": "code",
   "execution_count": 39,
   "id": "c461d597",
   "metadata": {},
   "outputs": [],
   "source": [
    "x_train,x_test,y_train,y_test=train_test_split(x_scaled,y,test_size=0.24,random_state=44)"
   ]
  },
  {
   "cell_type": "code",
   "execution_count": 40,
   "id": "4852b853",
   "metadata": {},
   "outputs": [
    {
     "data": {
      "text/plain": [
       "array([0.98089807, 0.98089807, 0.98089807, ..., 0.98089807, 0.98089807,\n",
       "       0.98089807])"
      ]
     },
     "execution_count": 40,
     "metadata": {},
     "output_type": "execute_result"
    }
   ],
   "source": [
    "#lets predict data\n",
    "y_pred=gbr.predict(x_test)\n",
    "y_pred"
   ]
  },
  {
   "cell_type": "code",
   "execution_count": 41,
   "id": "08c76986",
   "metadata": {},
   "outputs": [],
   "source": [
    "from sklearn.model_selection import GridSearchCV\n",
    "from sklearn.model_selection import cross_val_score\n",
    "import warnings\n",
    "from sklearn.linear_model import Lasso\n",
    "warnings.filterwarnings('ignore')"
   ]
  },
  {
   "cell_type": "code",
   "execution_count": 42,
   "id": "eb651ebb",
   "metadata": {},
   "outputs": [
    {
     "name": "stdout",
     "output_type": "stream",
     "text": [
      "{'alpha': 0.0001, 'random_state': 0}\n"
     ]
    }
   ],
   "source": [
    "parameters={'alpha':[.0001,0.001,.01,.1,1,10],'random_state':list(range(0,30))}\n",
    "ls=Lasso()\n",
    "clf=GridSearchCV(ls,parameters)\n",
    "clf.fit(x_train,y_train)\n",
    "print(clf.best_params_)"
   ]
  },
  {
   "cell_type": "code",
   "execution_count": 43,
   "id": "47f085ca",
   "metadata": {},
   "outputs": [],
   "source": [
    "from sklearn.metrics import r2_score"
   ]
  },
  {
   "cell_type": "code",
   "execution_count": 44,
   "id": "899787f8",
   "metadata": {},
   "outputs": [
    {
     "data": {
      "text/plain": [
       "0.7730117946969384"
      ]
     },
     "execution_count": 44,
     "metadata": {},
     "output_type": "execute_result"
    }
   ],
   "source": [
    "ls=Lasso(alpha=0.0001,random_state=0)\n",
    "ls.fit(x_train,y_train)\n",
    "ls.score(x_train,y_train)\n",
    "pred_ls=ls.predict(x_test)\n",
    "lss=r2_score(y_test,pred_ls)\n",
    "lss"
   ]
  }
 ],
 "metadata": {
  "kernelspec": {
   "display_name": "Python 3",
   "language": "python",
   "name": "python3"
  },
  "language_info": {
   "codemirror_mode": {
    "name": "ipython",
    "version": 3
   },
   "file_extension": ".py",
   "mimetype": "text/x-python",
   "name": "python",
   "nbconvert_exporter": "python",
   "pygments_lexer": "ipython3",
   "version": "3.8.8"
  }
 },
 "nbformat": 4,
 "nbformat_minor": 5
}
